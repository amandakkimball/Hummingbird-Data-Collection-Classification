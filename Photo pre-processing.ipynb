{
 "cells": [
  {
   "cell_type": "code",
   "execution_count": 9,
   "metadata": {},
   "outputs": [
    {
     "data": {
      "text/html": [
       "<style>.container { width:95% !important; }</style>"
      ],
      "text/plain": [
       "<IPython.core.display.HTML object>"
      ]
     },
     "metadata": {},
     "output_type": "display_data"
    }
   ],
   "source": [
    "from IPython.core.display import display, HTML\n",
    "display(HTML(\"<style>.container { width:95% !important; }</style>\"))"
   ]
  },
  {
   "cell_type": "code",
   "execution_count": 10,
   "metadata": {},
   "outputs": [],
   "source": [
    "import os\n",
    "import cv2\n",
    "import argparse\n",
    "from matplotlib import pyplot as plt\n",
    "import numpy as np"
   ]
  },
  {
   "cell_type": "code",
   "execution_count": 11,
   "metadata": {},
   "outputs": [],
   "source": [
    "def imagepreprocess(fromdirectory, todirectory):\n",
    "    #load photos\n",
    "    i = 549\n",
    "    #os.mkdir(todirectory)\n",
    "    for filename in os.listdir(fromdirectory):\n",
    "        if not filename.lower().endswith((\".png\",\".jpg\",\".jpeg\")):\n",
    "            print(filename)\n",
    "            continue\n",
    "        image = cv2.imread(os.path.join(fromdirectory, filename))\n",
    "        image = cv2.resize(image, (300,300)) \n",
    "        where_to_save = todirectory + '/00' + str(i) +'.png'\n",
    "        cv2.imwrite(where_to_save, image)\n",
    "        i+=1      \n",
    "    print(i)"
   ]
  },
  {
   "cell_type": "code",
   "execution_count": 8,
   "metadata": {},
   "outputs": [
    {
     "name": "stdout",
     "output_type": "stream",
     "text": [
      "Archive\n",
      "clean\n",
      "331\n"
     ]
    }
   ],
   "source": [
    "directory = \"Pictures/Hummingbirds/present_absent_images/Hummingbird\"\n",
    "newdirectory = \"Pictures/Hummingbirds/Birds Present/hummingbirds\"\n",
    "\n",
    "imagepreprocess(directory, newdirectory)"
   ]
  },
  {
   "cell_type": "code",
   "execution_count": 12,
   "metadata": {},
   "outputs": [
    {
     "name": "stdout",
     "output_type": "stream",
     "text": [
      "Archive\n",
      "1381\n"
     ]
    }
   ],
   "source": [
    "directory = \"Pictures/Hummingbirds/present_absent_images/No_bird\"\n",
    "newdirectory = \"Pictures/Hummingbirds/Birds Present/no_hummingbirds\"\n",
    "\n",
    "imagepreprocess(directory, newdirectory)"
   ]
  },
  {
   "cell_type": "code",
   "execution_count": null,
   "metadata": {},
   "outputs": [],
   "source": []
  }
 ],
 "metadata": {
  "kernelspec": {
   "display_name": "Python 3",
   "language": "python",
   "name": "python3"
  },
  "language_info": {
   "codemirror_mode": {
    "name": "ipython",
    "version": 3
   },
   "file_extension": ".py",
   "mimetype": "text/x-python",
   "name": "python",
   "nbconvert_exporter": "python",
   "pygments_lexer": "ipython3",
   "version": "3.7.2"
  }
 },
 "nbformat": 4,
 "nbformat_minor": 4
}
