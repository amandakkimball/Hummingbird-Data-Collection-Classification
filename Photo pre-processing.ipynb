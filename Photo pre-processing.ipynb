{
 "cells": [
  {
   "cell_type": "code",
   "execution_count": 5,
   "metadata": {},
   "outputs": [
    {
     "data": {
      "text/html": [
       "<style>.container { width:95% !important; }</style>"
      ],
      "text/plain": [
       "<IPython.core.display.HTML object>"
      ]
     },
     "metadata": {},
     "output_type": "display_data"
    }
   ],
   "source": [
    "from IPython.core.display import display, HTML\n",
    "display(HTML(\"<style>.container { width:95% !important; }</style>\"))"
   ]
  },
  {
   "cell_type": "code",
   "execution_count": 6,
   "metadata": {},
   "outputs": [],
   "source": [
    "import os\n",
    "import cv2\n",
    "import argparse\n",
    "from matplotlib import pyplot as plt\n",
    "import math\n",
    "import numpy as np"
   ]
  },
  {
   "cell_type": "code",
   "execution_count": 7,
   "metadata": {},
   "outputs": [],
   "source": [
    "def directory_split(todirectory, subset_name, iterator, split = 1):\n",
    "        i = iterator\n",
    "    \n",
    "        if(i<10):\n",
    "            a = '/00'\n",
    "        elif(i<100):\n",
    "            a = '/0'\n",
    "        else:\n",
    "            a='/'   \n",
    "        testsplit = round(i*split)-round((i-1)*split)\n",
    "        validsplit = round((i+1)*split)-round((i)*split)   \n",
    "        if (split == 1):\n",
    "            if(os.path.isdir(todirectory +species)==False):\n",
    "                os.mkdir(todirectory +species)\n",
    "            where_to_save = todirectory + species + a + str(i) +'.jpg'  \n",
    "            \n",
    "        else:\n",
    "            if(os.path.isdir(todirectory +'train/'+species)==False):\n",
    "                os.mkdir(todirectory +'train/'+species)\n",
    "                os.mkdir(todirectory +'test/'+species)\n",
    "                os.mkdir(todirectory+ 'valid/'+species)\n",
    "            if (testsplit == 1):\n",
    "                where_to_save = todirectory + 'test/' + subset_name + a + str(i) +'.jpg'\n",
    "            elif (validsplit==1):\n",
    "                where_to_save = todirectory + 'valid/' + subset_name + a + str(i) +'.jpg'\n",
    "            else:\n",
    "                where_to_save = todirectory + 'train/' + subset_name + a + str(i) +'.jpg'\n",
    "        \n",
    "        return (where_to_save)"
   ]
  },
  {
   "cell_type": "code",
   "execution_count": 8,
   "metadata": {},
   "outputs": [],
   "source": [
    "def imagepreprocess(fromdirectory, todirectory, species, split):\n",
    "    i = 1\n",
    "    #load photos\n",
    "    for filename in os.listdir(fromdirectory +species):\n",
    "        if not filename.lower().endswith((\".png\",\".jpg\",\".jpeg\")):\n",
    "            print(filename)\n",
    "            continue\n",
    "        image = cv2.imread(os.path.join(fromdirectory + species , filename))\n",
    "        image = cv2.resize(image, (224,224))        \n",
    "        where_to_save = directory_split(todirectory, species, i, split)\n",
    "        cv2.imwrite(where_to_save, image)\n",
    "        i+=1      \n",
    "    print(i-1) "
   ]
  },
  {
   "cell_type": "code",
   "execution_count": null,
   "metadata": {},
   "outputs": [],
   "source": [
    "directory = \"Pictures/Hummingbirds/Top-100/hummingbirds/\"\n",
    "\n",
    "os.mkdir(directory)\n",
    "os.mkdir(directory + 'train')\n",
    "os.mkdir(directory + 'test')\n",
    "os.mkdir(directory + 'valid')"
   ]
  },
  {
   "cell_type": "code",
   "execution_count": 130,
   "metadata": {},
   "outputs": [
    {
     "name": "stdout",
     "output_type": "stream",
     "text": [
      "desktop.ini\n",
      "140\n"
     ]
    }
   ],
   "source": [
    "directory = \"Pictures/Hummingbirds/Top-100/\"\n",
    "newdirectory = \"Pictures/Hummingbirds/Top-100/hummingbirds/\"\n",
    "species = \"Broadtailed_female\"\n",
    "\n",
    "imagepreprocess(directory, newdirectory, species, split = 0.14)"
   ]
  },
  {
   "cell_type": "code",
   "execution_count": 132,
   "metadata": {},
   "outputs": [
    {
     "name": "stdout",
     "output_type": "stream",
     "text": [
      "desktop.ini\n",
      "140\n"
     ]
    }
   ],
   "source": [
    "directory = \"Pictures/Hummingbirds/Top-100/\"\n",
    "newdirectory = \"Pictures/Hummingbirds/Top-100/hummingbirds/\"\n",
    "species = \"Rufous_female\"\n",
    "\n",
    "imagepreprocess(directory, newdirectory, species, split = 0.14)"
   ]
  },
  {
   "cell_type": "code",
   "execution_count": 131,
   "metadata": {},
   "outputs": [
    {
     "name": "stdout",
     "output_type": "stream",
     "text": [
      "desktop.ini\n",
      "140\n"
     ]
    }
   ],
   "source": [
    "directory = \"Pictures/Hummingbirds/Top-100/\"\n",
    "newdirectory = \"Pictures/Hummingbirds/Top-100/hummingbirds/\"\n",
    "species = \"Broadtailed_male\"\n",
    "\n",
    "imagepreprocess(directory, newdirectory, species, split = 0.14)"
   ]
  },
  {
   "cell_type": "code",
   "execution_count": 148,
   "metadata": {},
   "outputs": [
    {
     "name": "stdout",
     "output_type": "stream",
     "text": [
      "140\n"
     ]
    }
   ],
   "source": [
    "directory = \"Pictures/Hummingbirds/Top-100/\"\n",
    "newdirectory = \"Pictures/Hummingbirds/Top-100/hummingbirds/\"\n",
    "species = \"0No_bird\"\n",
    "\n",
    "imagepreprocess(directory, newdirectory, species, split = 0.14)"
   ]
  },
  {
   "cell_type": "code",
   "execution_count": 150,
   "metadata": {},
   "outputs": [
    {
     "name": "stdout",
     "output_type": "stream",
     "text": [
      "desktop.ini\n",
      "140\n",
      "desktop.ini\n",
      "140\n",
      "desktop.ini\n",
      "140\n",
      "140\n"
     ]
    }
   ],
   "source": [
    "directory = \"Pictures/Hummingbirds/Top-100/\"\n",
    "newdirectory = \"Pictures/Hummingbirds/Top-100/All_images/\"\n",
    "#os.mkdir(newdirectory)\n",
    "\n",
    "species = \"Broadtailed_female\"\n",
    "\n",
    "imagepreprocess(directory, newdirectory, species, split=1)\n",
    "\n",
    "species = \"Broadtailed_male\"\n",
    "\n",
    "imagepreprocess(directory, newdirectory, species, split=1)\n",
    "\n",
    "species = \"Rufous_female\"\n",
    "\n",
    "imagepreprocess(directory, newdirectory, species, split=1)\n",
    "species = \"0No_bird\"\n",
    "\n",
    "imagepreprocess(directory, newdirectory, species, split=1)\n",
    "\n"
   ]
  },
  {
   "cell_type": "code",
   "execution_count": 10,
   "metadata": {},
   "outputs": [
    {
     "name": "stdout",
     "output_type": "stream",
     "text": [
      "65\n",
      "215\n"
     ]
    }
   ],
   "source": [
    "directory = \"Pictures/Hummingbirds/Top-100/testdata/\"\n",
    "newdirectory = \"Pictures/Hummingbirds/Top-100/video_test/\"\n",
    "#os.mkdir(newdirectory)\n",
    "\n",
    "#species = \"Broadtailed_female\"\n",
    "\n",
    "#imagepreprocess(directory, newdirectory, species, split=1)\n",
    "\n",
    "species = \"Broadtailed_male\"\n",
    "\n",
    "imagepreprocess(directory, newdirectory, species, split=1)\n",
    "\n",
    "species = \"0No_bird\"\n",
    "\n",
    "imagepreprocess(directory, newdirectory, species, split=1)"
   ]
  },
  {
   "cell_type": "code",
   "execution_count": null,
   "metadata": {},
   "outputs": [],
   "source": []
  },
  {
   "cell_type": "code",
   "execution_count": null,
   "metadata": {},
   "outputs": [],
   "source": []
  }
 ],
 "metadata": {
  "kernelspec": {
   "display_name": "Python 3",
   "language": "python",
   "name": "python3"
  },
  "language_info": {
   "codemirror_mode": {
    "name": "ipython",
    "version": 3
   },
   "file_extension": ".py",
   "mimetype": "text/x-python",
   "name": "python",
   "nbconvert_exporter": "python",
   "pygments_lexer": "ipython3",
   "version": "3.7.2"
  }
 },
 "nbformat": 4,
 "nbformat_minor": 4
}
